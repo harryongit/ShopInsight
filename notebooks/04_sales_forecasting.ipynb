{
 "cells": [
  {
   "cell_type": "markdown",
   "metadata": {},
   "source": [
    "# Sales Forecasting Analysis\n",
    "\n",
    "This notebook focuses on:\n",
    "1. Time series decomposition\n",
    "2. Sales forecasting using various methods\n",
    "3. Model evaluation and comparison"
   ]
  },
  {
   "cell_type": "code",
   "execution_count": null,
   "metadata": {},
   "source": [
    "import pandas as pd\n",
    "import numpy as np\n",
    "import matplotlib.pyplot as plt\n",
    "import seaborn as sns\n",
    "from statsmodels.tsa.seasonal import seasonal_decompose\n",
    "from statsmodels.tsa.holtwinters import ExponentialSmoothing\n",
    "from sklearn.metrics import mean_absolute_error, mean_squared_error\n",
    "import sys\n",
    "sys.path.append('..')\n",
    "\n",
    "from src.model_utils import ModelUtils\n",
    "from src.config import PROCESSED_DATA_DIR, FORECAST_CONFIG\n",
    "\n",
    "%matplotlib inline\n",
    "plt.style.use('seaborn')"
   ]
  },
  {
   "cell_type": "markdown",
   "metadata": {},
   "source": [
    "## 1. Time Series Analysis"
   ]
  },
  {
   "cell_type": "code",
   "execution_count": null,
   "metadata": {},
   "source": [
    "# Load and prepare data\n",
    "df = pd.read_csv(PROCESSED_DATA_DIR / 'cleaned_sales_data.csv')\n",
    "df['order_date'] = pd.to_datetime(df['order_date'])\n",
    "\n",
    "# Create daily sales series\n",
    "daily_sales = df.groupby('order_date')['price'].sum()\n",
    "\n",
    "# Perform time series decomposition\n",
    "decomposition = seasonal_decompose(daily_sales, period=7)\n",
    "\n",
    "# Plot decomposition\n",
    "fig, (ax1, ax2, ax3, ax4) = plt.subplots(4, 1, figsize=(15, 12))\n",
    "decomposition.observed.plot(ax=ax1)\n",
    "ax1.set_title('Observed')\n",
    "decomposition.trend.plot(ax=ax2)\n",
    "ax2.set_title('Trend')\n",
    "decomposition.seasonal.plot(ax=ax3)\n",
    "ax3.set_title('Seasonal')\n",
    "decomposition.resid.plot(ax=ax4)\n",
    "ax4.set_title('Residual')\n",
    "plt.tight_layout()\n",
    "plt.show()"
   ]
  },
  {
   "cell_type": "markdown",
   "metadata": {},
   "source": [
    "## 2. Sales Forecasting"
   ]
  },
  {
   "cell_type": "code",
   "execution_count": null,
   "metadata": {},
   "source": [
    "# Initialize model utils\n",
    "model_utils = ModelUtils(df)\n",
    "\n",
    "# Generate forecast\n",
    "forecast, metrics = model_utils.create_sales_forecast(\n",
    "    periods=FORECAST_CONFIG['periods'],\n",
    "    seasonal_periods=FORECAST_CONFIG['seasonal_periods']\n",
    ")\n",
    "\n",
    "# Plot forecast\n",
    "plt.figure(figsize=(15, 6))\n",
    "plt.plot(daily_sales.index, daily_sales.values, label='Actual')\n",
    "plt.plot(forecast.index, forecast.values, label='Forecast', linestyle='--')\n",
    "plt.title('Sales Forecast')\n",
    "plt.legend()\n",
    "plt.show()\n",
    "\n",
    "# Print forecast metrics\n",
    "print(\"\\nForecast Metrics:\")\n",
    "for metric, value in metrics.items():\n",
    "    print(f\"{metric}: {value}\")"
   ]
  },
  {
   "cell_type": "markdown",
   "metadata": {},
   "source": [
    "## 3. Model Comparison"
   ]
  },
  {
   "cell_type": "code",
   "execution_count": null,
   "metadata": {},
   "source": [
    "# Compare different forecasting methods\n",
    "def evaluate_model(model, train, test):\n",
    "    predictions = model.forecast(len(test))\n",
    "    mae = mean_absolute_error(test, predictions)\n",
    "    rmse = np.sqrt(mean_squared_error(test, predictions))\n",
    "    return {'mae': mae, 'rmse': rmse}\n",
