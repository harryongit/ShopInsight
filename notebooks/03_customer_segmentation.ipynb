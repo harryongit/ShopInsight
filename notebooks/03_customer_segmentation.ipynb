{
 "cells": [
  {
   "cell_type": "markdown",
   "metadata": {},
   "source": [
    "# Customer Segmentation Analysis\n",
    "\n",
    "This notebook performs customer segmentation using:\n",
    "1. RFM (Recency, Frequency, Monetary) Analysis\n",
    "2. K-means Clustering\n",
    "3. Segment Profiling and Visualization"
   ]
  },
  {
   "cell_type": "code",
   "execution_count": null,
   "metadata": {},
   "source": [
    "import pandas as pd\n",
    "import numpy as np\n",
    "import matplotlib.pyplot as plt\n",
    "import seaborn as sns\n",
    "from sklearn.preprocessing import StandardScaler\n",
    "from sklearn.cluster import KMeans\n",
    "from sklearn.metrics import silhouette_score\n",
    "import sys\n",
    "sys.path.append('..')\n",
    "\n",
    "from src.model_utils import ModelUtils\n",
    "from src.config import PROCESSED_DATA_DIR, CLUSTERING_CONFIG\n",
    "\n",
    "%matplotlib inline\n",
    "plt.style.use('seaborn')"
   ]
  },
  {
   "cell_type": "markdown",
   "metadata": {},
   "source": [
    "## 1. RFM Analysis"
   ]
  },
  {
   "cell_type": "code",
   "execution_count": null,
   "metadata": {},
   "source": [
    "# Load data\n",
    "df = pd.read_csv(PROCESSED_DATA_DIR / 'cleaned_sales_data.csv')\n",
    "df['order_date'] = pd.to_datetime(df['order_date'])\n",
    "\n",
    "# Calculate RFM metrics\n",
    "current_date = df['order_date'].max()\n",
    "\n",
    "rfm = df.groupby('customer_id').agg({\n",
    "    'order_date': lambda x: (current_date - x.max()).days,  # Recency\n",
    "    'order_id': 'count',  # Frequency\n",
    "    'price': 'sum'  # Monetary\n",
    "}).rename(columns={\n",
    "    'order_date': 'recency',\n",
    "    'order_id': 'frequency',\n",
    "    'price': 'monetary'\n",
    "})\n",
    "\n",
    "# Create RFM scores\n",
    "rfm_scores = rfm.copy()\n",
    "for metric in ['recency', 'frequency', 'monetary']:\n",
    "    if metric == 'recency':\n",
    "        rfm_scores[f'{metric}_score'] = pd.qcut(rfm[metric], q=5, labels=[5,4,3,2,1])\n",
    "    else:\n",
    "        rfm_scores[f'{metric}_score'] = pd.qcut(rfm[metric], q=5, labels=[1,2,3,4,5])\n",
    "\n",
    "# Calculate RFM Score\n",
    "rfm_scores['rfm_score'] = rfm_scores['recency_score'].astype(str) + \\\n",
    "                         rfm_scores['frequency_score'].astype(str) + \\\n",
    "                         rfm_scores['monetary_score'].astype(str)\n",
    "\n",
    "# Visualize RFM distributions\n",
    "fig, axes = plt.subplots(1, 3, figsize=(20, 6))\n",
    "for i, metric in enumerate(['recency', 'frequency', 'monetary']):\n",
    "    sns.histplot(data=rfm, x=metric, ax=axes[i])\n",
    "    axes[i].set_title(f'Distribution of {metric}')\n",
    "plt.tight_layout()\n",
    "plt.show()"
   ]
  },
  {
   "cell_type": "markdown",
   "metadata": {},
   "source": [
    "## 2. K-means Clustering"
   ]
  },
  {
   "cell_type": "code",
   "execution_count": null,
   "metadata": {},
   "source": [
    "# Initialize model utils\n",
    "model_utils = ModelUtils(df)\n",
    "\n",
    "# Perform clustering\n",
    "segments, metrics = model_utils.perform_customer_segmentation(\n",
    "    n_clusters=CLUSTERING_CONFIG['n_clusters']\n",
    ")\n",
    "\n",
    "# Visualize clusters\n",
    "plt.figure(figsize=(12, 8))\n",
    "sns.scatterplot(data=segments, x='total_spent', y='total_orders', hue='Segment', palette='deep')\n",
    "plt.title('Customer Segments')\n",
    "plt.show()\n",
    "\n",
    "# Print clustering metrics\n",
    "print(\"\\nClustering Metrics:\")\n",
    "for metric, value in metrics.items():\n",
    "    print(f\"{metric}: {value}\")"
   ]
  },
  {
   "cell_type": "markdown",
   "metadata": {},
   "source": [
    "## 3. Segment Profiling"
   ]
  },
  {
   "cell_type": "code",
   "execution_count": null,
   "metadata": {},
   "source": [
    "# Calculate segment profiles\n",
    "segment_profiles = segments.groupby('Segment').agg({\n",
    "    'total_orders': 'mean',\n",
    "    'total_spent': 'mean',\n",
    "    'customer_id': 'count'\n",
    "}).round(2)\n",
    "\n",
    "segment_profiles['size_percentage'] = (segment_profiles['customer_id'] / \n",
    "                                      segment_profiles['customer_id'].sum() * 100).round(2)\n",
    "\n",
    "print(\"Segment Profiles:\")\n",
    "print(segment_profiles)\n",
    "\n",
    "# Visualize segment characteristics\n",
    "fig, axes = plt.subplots(1, 2, figsize=(15, 6))\n",
    "\n",
    "# Average order value by segment\n",
    "sns.barplot(data=segments, x='Segment', y='total_spent', ax=axes[0])\n",
    "axes[0].set_title('Average Total Spent by Segment')\n",
    "\n",
    "# Segment size distribution\n",
    "segment_sizes = segments['Segment'].value_counts()\n",
    "plt.pie(segment_sizes, labels=segment_sizes.index, autopct='%1.1f%%')\n",
    "axes[1].set_title('Segment Size Distribution')\n",
    "\n",
    "plt.tight_layout()\n",
    "plt.show()"
   ]
  }
 ]
}
