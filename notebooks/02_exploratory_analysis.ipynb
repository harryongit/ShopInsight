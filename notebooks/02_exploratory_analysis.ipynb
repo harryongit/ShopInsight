{
 "cells": [
  {
   "cell_type": "markdown",
   "metadata": {},
   "source": [
    "# E-commerce Data Exploratory Analysis\n",
    "\n",
    "This notebook focuses on exploring the cleaned e-commerce dataset through:\n",
    "1. Sales trends analysis\n",
    "2. Customer behavior analysis\n",
    "3. Product performance analysis\n",
    "4. Time-based patterns"
   ]
  },
  {
   "cell_type": "code",
   "execution_count": null,
   "metadata": {},
   "source": [
    "# Import required libraries\n",
    "import pandas as pd\n",
    "import numpy as np\n",
    "import matplotlib.pyplot as plt\n",
    "import seaborn as sns\n",
    "import plotly.express as px\n",
    "import sys\n",
    "sys.path.append('..')\n",
    "\n",
    "from src.visualization import DataVisualizer\n",
    "from src.feature_engineering import FeatureEngineer\n",
    "from src.config import PROCESSED_DATA_DIR\n",
    "\n",
    "%matplotlib inline\n",
    "plt.style.use('seaborn')"
   ]
  },
  {
   "cell_type": "code",
   "execution_count": null,
   "metadata": {},
   "source": [
    "# Load cleaned data\n",
    "df = pd.read_csv(PROCESSED_DATA_DIR / 'cleaned_sales_data.csv')\n",
    "df['order_date'] = pd.to_datetime(df['order_date'])\n",
    "\n",
    "# Initialize visualizer\n",
    "visualizer = DataVisualizer(df)"
   ]
  },
  {
   "cell_type": "markdown",
   "metadata": {},
   "source": [
    "## 1. Sales Trends Analysis"
   ]
  },
  {
   "cell_type": "code",
   "execution_count": null,
   "metadata": {},
   "source": [
    "# Daily sales trend\n",
    "visualizer.plot_sales_trend(time_unit='D')\n",
    "\n",
    "# Monthly sales trend\n",
    "visualizer.plot_sales_trend(time_unit='M')\n",
    "\n",
    "# Calculate key metrics\n",
    "daily_sales = df.groupby('order_date')['price'].sum()\n",
    "print(f\"Average daily sales: ${daily_sales.mean():.2f}\")\n",
    "print(f\"Sales growth: {((daily_sales.iloc[-1] / daily_sales.iloc[0] - 1) * 100):.2f}%\")"
   ]
  },
  {
   "cell_type": "markdown",
   "metadata": {},
   "source": [
    "## 2. Customer Behavior Analysis"
   ]
  },
  {
   "cell_type": "code",
   "execution_count": null,
   "metadata": {},
   "source": [
    "# Feature engineering for customer analysis\n",
    "engineer = FeatureEngineer(df)\n",
    "df_with_features = engineer.create_customer_features()\n",
    "\n",
    "# Customer purchase frequency distribution\n",
    "plt.figure(figsize=(12, 6))\n",
    "sns.histplot(data=df_with_features, x='total_orders', bins=30)\n",
    "plt.title('Distribution of Customer Purchase Frequency')\n",
    "plt.show()\n",
    "\n",
    "# Customer lifetime value analysis\n",
    "plt.figure(figsize=(12, 6))\n",
    "sns.scatterplot(data=df_with_features, x='total_spent', y='purchase_frequency')\n",
    "plt.title('Customer Lifetime Value Analysis')\n",
    "plt.show()"
   ]
  },
  {
   "cell_type": "markdown",
   "metadata": {},
   "source": [
    "## 3. Product Performance Analysis"
   ]
  },
  {
   "cell_type": "code",
   "execution_count": null,
   "metadata": {},
   "source": [
    "# Add product features\n",
    "df_with_features = engineer.create_product_features()\n",
    "\n",
    "# Top performing products\n",
    "top_products = df_with_features.groupby('product_id').agg({\n",
    "    'price': ['sum', 'count'],\n",
    "    'product_avg_price': 'first'\n",
    "}).sort_values(('price', 'sum'), ascending=False).head(10)\n",
    "\n",
    "# Visualize product performance\n",
    "plt.figure(figsize=(15, 6))\n",
    "sns.barplot(data=top_products.reset_index(), x='product_id', y=('price', 'sum'))\n",
    "plt.title('Top 10 Products by Revenue')\n",
    "plt.xticks(rotation=45)\n",
    "plt.show()"
   ]
  },
  {
   "cell_type": "markdown",
   "metadata": {},
   "source": [
    "## 4. Time-based Patterns"
   ]
  },
  {
   "cell_type": "code",
   "execution_count": null,
   "metadata": {},
   "source": [
    "# Add time features\n",
    "df_with_features = engineer.create_time_features()\n",
    "\n",
    "# Daily patterns\n",
    "plt.figure(figsize=(12, 6))\n",
    "sns.boxplot(data=df_with_features, x='order_dayofweek', y='price')\n",
    "plt.title('Sales Distribution by Day of Week')\n",
    "plt.show()\n",
    "\n",
    "# Monthly patterns\n",
    "plt.figure(figsize=(12, 6))\n",
    "monthly_sales = df_with_features.groupby('order_month')['price'].sum()\n",
    "plt.plot(monthly_sales.index, monthly_sales.values, marker='o')\n",
    "plt.title('Monthly Sales Pattern')\n",
    "plt.show()"
   ]
  },
  {
   "cell_type": "markdown",
   "metadata": {},
   "source": [
    "## 5. Correlation Analysis"
   ]
  },
  {
   "cell_type": "code",
   "execution_count": null,
   "metadata": {},
   "source": [
    "# Select numerical columns for correlation analysis\n",
    "numerical_cols = df_with_features.select_dtypes(include=['float64', 'int64']).columns\n",
    "\n",
    "# Create correlation matrix\n",
    "correlation_matrix = df_with_features[numerical_cols].corr()\n",
    "\n",
     "# Plot correlation heatmap\n",
    "plt.figure(figsize=(12, 8))\n",
    "sns.heatmap(correlation_matrix, \n",
    "            annot=True, \n",
    "            cmap='coolwarm', \n",
    "            center=0,\n",
    "            fmt='.2f')\n",
    "plt.title('Feature Correlation Matrix')\n",
    "plt.tight_layout()\n",
    "plt.show()\n",
    "\n",
    "# Identify strongest correlations\n",
    "strong_correlations = pd.DataFrame()\n",
    "for col in correlation_matrix.columns:\n",
    "    strong_corr = correlation_matrix[col][abs(correlation_matrix[col]) > 0.5]\n",
    "    strong_corr = strong_corr[strong_corr.index != col]\n",
    "    if not strong_corr.empty:\n",
    "        print(f\"\\nStrong correlations with {col}:\")\n",
    "        print(strong_corr)"
   ]
  },
  {
   "cell_type": "markdown",
   "metadata": {},
   "source": [
    "## 6. Key Insights Summary"
   ]
  },
  {
   "cell_type": "code",
   "execution_count": null,
   "metadata": {},
   "source": [
    "# Calculate and print key business metrics\n",
    "insights = {\n",
    "    'Total Revenue': f\"${df_with_features['price'].sum():,.2f}\",\n",
    "    'Average Order Value': f\"${df_with_features['price'].mean():,.2f}\",\n",
    "    'Total Customers': df_with_features['customer_id'].nunique(),\n",
    "    'Total Products': df_with_features['product_id'].nunique(),\n",
    "    'Best Selling Category': df_with_features.groupby('category')['price'].sum().idxmax(),\n",
    "    'Peak Sales Month': df_with_features.groupby('order_month')['price'].sum().idxmax()\n",
    "}\n",
    "\n",
    "for metric, value in insights.items():\n",
    "    print(f\"{metric}: {value}\")"
   ]
  }
 ]
}
